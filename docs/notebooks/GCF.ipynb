{
 "cells": [
  {
   "cell_type": "code",
   "execution_count": 1,
   "metadata": {},
   "outputs": [
    {
     "ename": "LoadError",
     "evalue": "LoadError: LoadError: LoadError: \u001b[91mArgumentError: Module SEISM not found in current path.\nRun `Pkg.add(\"SEISM\")` to install the SEISM package.\u001b[39m\nwhile loading /home/luciano/.julia/v0.6/RGBDSegmentation/src/Evaluation/SegmentationBenchmark.jl, in expression starting on line 18\nwhile loading /home/luciano/.julia/v0.6/RGBDSegmentation/src/Evaluation/Evaluation.jl, in expression starting on line 1\nwhile loading /home/luciano/.julia/v0.6/RGBDSegmentation/src/RGBDSegmentation.jl, in expression starting on line 8",
     "output_type": "error",
     "traceback": [
      "LoadError: LoadError: LoadError: \u001b[91mArgumentError: Module SEISM not found in current path.\nRun `Pkg.add(\"SEISM\")` to install the SEISM package.\u001b[39m\nwhile loading /home/luciano/.julia/v0.6/RGBDSegmentation/src/Evaluation/SegmentationBenchmark.jl, in expression starting on line 18\nwhile loading /home/luciano/.julia/v0.6/RGBDSegmentation/src/Evaluation/Evaluation.jl, in expression starting on line 1\nwhile loading /home/luciano/.julia/v0.6/RGBDSegmentation/src/RGBDSegmentation.jl, in expression starting on line 8",
      "",
      "Stacktrace:",
      " [1] \u001b[1m_require\u001b[22m\u001b[22m\u001b[1m(\u001b[22m\u001b[22m::Symbol\u001b[1m)\u001b[22m\u001b[22m at \u001b[1m./loading.jl:435\u001b[22m\u001b[22m",
      " [2] \u001b[1mrequire\u001b[22m\u001b[22m\u001b[1m(\u001b[22m\u001b[22m::Symbol\u001b[1m)\u001b[22m\u001b[22m at \u001b[1m./loading.jl:405\u001b[22m\u001b[22m",
      " [3] \u001b[1minclude_from_node1\u001b[22m\u001b[22m\u001b[1m(\u001b[22m\u001b[22m::String\u001b[1m)\u001b[22m\u001b[22m at \u001b[1m./loading.jl:576\u001b[22m\u001b[22m (repeats 3 times)",
      " [4] \u001b[1m_require\u001b[22m\u001b[22m\u001b[1m(\u001b[22m\u001b[22m::Symbol\u001b[1m)\u001b[22m\u001b[22m at \u001b[1m./loading.jl:490\u001b[22m\u001b[22m",
      " [5] \u001b[1mrequire\u001b[22m\u001b[22m\u001b[1m(\u001b[22m\u001b[22m::Symbol\u001b[1m)\u001b[22m\u001b[22m at \u001b[1m./loading.jl:405\u001b[22m\u001b[22m"
     ]
    }
   ],
   "source": [
    "using RGBDSegmentation, ImageSegmentation, Clustering, Colors, Plots\n",
    "pyplot()\n",
    "dataset         = NYUDataset()\n",
    "img             = get_image(dataset, 5)\n",
    "cfg             = RGBDSegmentation.GCF.Config(5, 3, 0.001:0.3:1)\n",
    "segments        = clusterize(cfg, img.image, 5)\n",
    "segmented_image = reshape(assignments(segments),size(img.image))\n",
    "segmented_image = Gray.(segmented_image./maximum(segmented_image))\n"
   ]
  },
  {
   "cell_type": "code",
   "execution_count": null,
   "metadata": {},
   "outputs": [
    {
     "ename": "MethodError",
     "evalue": "SYSTEM: show(lasterr) caused an error",
     "output_type": "error",
     "traceback": [
      "KERNEL EXCEPTION",
      "SYSTEM: show(lasterr) caused an error",
      "",
      "Stacktrace:",
      " [1] \u001b[1mAssertionError\u001b[22m\u001b[22m\u001b[1m(\u001b[22m\u001b[22m::String\u001b[1m)\u001b[22m\u001b[22m at \u001b[1m./coreimg.jl:14\u001b[22m\u001b[22m",
      " [2] \u001b[1mexecute_request\u001b[22m\u001b[22m\u001b[1m(\u001b[22m\u001b[22m::Any, ::Any\u001b[1m)\u001b[22m\u001b[22m at \u001b[1m/home/luciano/.julia/v0.6/IJulia/src/execute_request.jl:212\u001b[22m\u001b[22m",
      " [3] \u001b[1m(::Compat.#inner#17)\u001b[22m\u001b[22m\u001b[1m(\u001b[22m\u001b[22m\u001b[1m)\u001b[22m\u001b[22m at \u001b[1m/home/luciano/.julia/v0.6/Compat/src/Compat.jl:385\u001b[22m\u001b[22m",
      " [4] \u001b[1meventloop\u001b[22m\u001b[22m\u001b[1m(\u001b[22m\u001b[22m::ZMQ.Socket\u001b[1m)\u001b[22m\u001b[22m at \u001b[1m/home/luciano/.julia/v0.6/IJulia/src/eventloop.jl:8\u001b[22m\u001b[22m",
      " [5] \u001b[1m(::IJulia.##14#17)\u001b[22m\u001b[22m\u001b[1m(\u001b[22m\u001b[22m\u001b[1m)\u001b[22m\u001b[22m at \u001b[1m./task.jl:335\u001b[22m\u001b[22m"
     ]
    },
    {
     "name": "stderr",
     "output_type": "stream",
     "text": [
      "\u001b[91mERROR (unhandled task failure): \u001b[91mMethodError: no method matching convert(::Type{AssertionError}, ::String)\u001b[39m\u001b[39m\u001b[91mERROR (unhandled task failure): \u001b[91mMethodError: no method matching convert(::Type{AssertionError}, ::String)\u001b[39m\u001b[39m\u001b[91mERROR (unhandled task failure): \u001b[91mMethodError: no method matching convert(::Type{AssertionError}, ::String)\u001b[0m\n",
      "Closest candidates are:\n",
      "  convert(\u001b[91m::Type{Any}\u001b[39m, ::ANY) at essentials.jl:28\n",
      "  convert(::Type{T}, \u001b[91m::T\u001b[39m) where T at essentials.jl:29\u001b[39m\n",
      "\u001b[39m\u001b[91mERROR (unhandled task failure): \u001b[91mMethodError: no method matching convert(::Type{AssertionError}, ::String)\u001b[0m\n",
      "Closest candidates are:\n",
      "  convert(\u001b[91m::Type{Any}\u001b[39m, ::ANY) at essentials.jl:28\n",
      "  convert(::Type{T}, \u001b[91m::T\u001b[39m) where T at essentials.jl:29\u001b[39m\n",
      "\u001b[39m\u001b[91mERROR (unhandled task failure): \u001b[91mMethodError: no method matching convert(::Type{AssertionError}, ::String)\u001b[0m\n",
      "Closest candidates are:\n",
      "  convert(\u001b[91m::Type{Any}\u001b[39m, ::ANY) at essentials.jl:28\n",
      "  convert(::Type{T}, \u001b[91m::T\u001b[39m) where T at essentials.jl:29\u001b[39m\n",
      "\u001b[39m\u001b[91mERROR (unhandled task failure): \u001b[91mMethodError: no method matching convert(::Type{AssertionError}, ::String)\u001b[0m\n",
      "Closest candidates are:\n",
      "  convert(\u001b[91m::Type{Any}\u001b[39m, ::ANY) at essentials.jl:28\n",
      "  convert(::Type{T}, \u001b[91m::T\u001b[39m) where T at essentials.jl:29\u001b[39m\n",
      "\u001b[39m\u001b[91mERROR (unhandled task failure): \u001b[91mMethodError: no method matching convert(::Type{AssertionError}, ::String)\u001b[0m\n",
      "Closest candidates are:\n",
      "  convert(\u001b[91m::Type{Any}\u001b[39m, ::ANY) at essentials.jl:28\n",
      "  convert(::Type{T}, \u001b[91m::T\u001b[39m) where T at essentials.jl:29\u001b[39m\n",
      "\u001b[39m\u001b[91mERROR (unhandled task failure): \u001b[91mMethodError: no method matching convert(::Type{AssertionError}, ::String)\u001b[0m\n",
      "Closest candidates are:\n",
      "  convert(\u001b[91m::Type{Any}\u001b[39m, ::ANY) at essentials.jl:28\n",
      "  convert(::Type{T}, \u001b[91m::T\u001b[39m) where T at essentials.jl:29\u001b[39m\n",
      "\u001b[39m\u001b[91mERROR (unhandled task failure): \u001b[91mMethodError: no method matching convert(::Type{AssertionError}, ::String)\u001b[0m\n",
      "Closest candidates are:\n",
      "  convert(\u001b[91m::Type{Any}\u001b[39m, ::ANY) at essentials.jl:28\n",
      "  convert(::Type{T}, \u001b[91m::T\u001b[39m) where T at essentials.jl:29\u001b[39m\n",
      "Stacktrace:\u001b[39m\u001b[91mERROR (unhandled task failure): \u001b[91mMethodError: no method matching convert(::Type{AssertionError}, ::String)\u001b[0m\n",
      "Closest candidates are:\n",
      "  convert(\u001b[91m::Type{Any}\u001b[39m, ::ANY) at essentials.jl:28\n",
      "  convert(::Type{T}, \u001b[91m::T\u001b[39m) where T at essentials.jl:29\u001b[39m\n",
      "\u001b[39m\u001b[91mERROR (unhandled task failure): \u001b[91mMethodError: no method matching convert(::Type{AssertionError}, ::String)\u001b[0m\n",
      "Closest candidates are:\n",
      "  convert(\u001b[91m::Type{Any}\u001b[39m, ::ANY) at essentials.jl:28\n",
      "  convert(::Type{T}, \u001b[91m::T\u001b[39m) where T at essentials.jl:29\u001b[39m\n",
      "Stacktrace:\n",
      " [1] \u001b[39m\u001b[91mERROR (unhandled task failure): \u001b[91mMethodError: no method matching convert(::Type{AssertionError}, ::String)\u001b[0m\n",
      "Closest candidates are:\n",
      "  convert(\u001b[91m::Type{Any}\u001b[39m, ::ANY) at essentials.jl:28\n",
      "  convert(::Type{T}, \u001b[91m::T\u001b[39m) where T at essentials.jl:29\u001b[39m\n",
      "Stacktrace:\n",
      " [1] \u001b[1mAssertionError\u001b[22m\u001b[22m\u001b[1m(\u001b[22m\u001b[22m::String\u001b[1m)\u001b[22m\u001b[22m at \u001b[1m./coreimg.jl:14\u001b[22m\u001b[22m\n",
      " [2] \u001b[1m(::Base.#kw##show)\u001b[22m\u001b[22m\u001b[1m(\u001b[22m\u001b[22m::Array{Any,1}, ::Base.#show, ::IO, ::StackFrame\u001b[1m)\u001b[22m\u001b[22m at \u001b[1m./<missing>:0\u001b[22m\u001b[22m\n",
      " [3] \u001b[1m#show_trace_entry#493\u001b[22m\u001b[22m\u001b[1m(\u001b[22m\u001b[22m::Any, ::Any, ::Any, ::Any, ::Any\u001b[1m)\u001b[22m\u001b[22m at \u001b[1m./replutil.jl:627\u001b[22m\u001b[22m\n",
      " [4] \u001b[1m(::Base.#kw##show_trace_entry)\u001b[22m\u001b[22m\u001b[1m(\u001b[22m\u001b[22m::Array{Any,1}, ::Base.#show_trace_entry, ::Any, ::Any, ::Any\u001b[1m)\u001b[22m\u001b[22m at \u001b[1m./<missing>:0\u001b[22m\u001b[22m\n",
      " [5] \u001b[1m(::Base.##495#497)\u001b[22m\u001b[22m\u001b[1m(\u001b[22m\u001b[22m::Any, ::Any\u001b[1m)\u001b[22m\u001b[22m at \u001b[1m./replutil.jl:644\u001b[22m\u001b[22m\n",
      " [6] \u001b[1m#process_backtrace#498\u001b[22m\u001b[22m\u001b[1m(\u001b[22m\u001b[22m::Any, ::Any, ::Function, ::Array{T,1} where T, ::Int64\u001b[1m)\u001b[22m\u001b[22m at \u001b[1m./replutil.jl:675\u001b[22m\u001b[22m\n",
      " [7] \u001b[1mprocess_backtrace\u001b[22m\u001b[22m\u001b[1m(\u001b[22m\u001b[22m::Function, ::Array{T,1} where T, ::Int64\u001b[1m)\u001b[22m\u001b[22m at \u001b[1m./replutil.jl:658\u001b[22m\u001b[22m (repeats 2 times)\n",
      " [8] \u001b[1mshow_backtrace\u001b[22m\u001b[22m\u001b[1m(\u001b[22m\u001b[22m::IO, ::Array{T,1} where T\u001b[1m)\u001b[22m\u001b[22m at \u001b[1m./replutil.jl:647\u001b[22m\u001b[22m\n",
      " [9] \u001b[1m#showerror#475\u001b[22m\u001b[22m\u001b[1m(\u001b[22m\u001b[22m::Any, ::Any, ::IO, ::Any, ::Any\u001b[1m)\u001b[22m\u001b[22m at \u001b[1m./replutil.jl:216\u001b[22m\u001b[22m\n",
      " [10] \u001b[1mshowerror\u001b[22m\u001b[22m\u001b[1m(\u001b[22m\u001b[22m::IO, ::Any, ::Any\u001b[1m)\u001b[22m\u001b[22m at \u001b[1m./replutil.jl:211\u001b[22m\u001b[22m\n",
      " [11] \u001b[1m(::Base.##305#308)\u001b[22m\u001b[22m\u001b[1m(\u001b[22m\u001b[22m::Any\u001b[1m)\u001b[22m\u001b[22m at \u001b[1m./task.jl:248\u001b[22m\u001b[22m\n",
      " [12] \u001b[1m#with_output_color#512\u001b[22m\u001b[22m\u001b[1m(\u001b[22m\u001b[22m::Bool, ::Function, ::Function, ::Symbol, ::IJulia.IJuliaStdio{Base.PipeEndpoint}\u001b[1m)\u001b[22m\u001b[22m at \u001b[1m./util.jl:400\u001b[22m\u001b[22m\n",
      " [13] \u001b[1mwith_output_color\u001b[22m\u001b[22m\u001b[1m(\u001b[22m\u001b[22m::Function, ::Symbol, ::IJulia.IJuliaStdio{Base.PipeEndpoint}\u001b[1m)\u001b[22m\u001b[22m at \u001b[1m./util.jl:397\u001b[22m\u001b[22m\n",
      " [14] \u001b[1m(::Base.##304#307{Array{Ptr{Void},1},MethodError})\u001b[22m\u001b[22m\u001b[1m(\u001b[22m\u001b[22m\u001b[1m)\u001b[22m\u001b[22m at \u001b[1m./event.jl:73\u001b[22m\u001b[22m\n",
      "\u001b[39m"
     ]
    }
   ],
   "source": [
    "Plots.plot(segmented_image)"
   ]
  },
  {
   "cell_type": "code",
   "execution_count": null,
   "metadata": {},
   "outputs": [],
   "source": []
  }
 ],
 "metadata": {
  "kernelspec": {
   "display_name": "Julia 0.6.2",
   "language": "julia",
   "name": "julia-0.6"
  },
  "language_info": {
   "file_extension": ".jl",
   "mimetype": "application/julia",
   "name": "julia",
   "version": "0.6.2"
  }
 },
 "nbformat": 4,
 "nbformat_minor": 2
}
