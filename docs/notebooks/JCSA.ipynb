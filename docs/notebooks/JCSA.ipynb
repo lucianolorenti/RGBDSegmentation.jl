{
 "cells": [
  {
   "cell_type": "markdown",
   "metadata": {},
   "source": [
    "# Ejemplo de uso"
   ]
  },
  {
   "cell_type": "code",
   "execution_count": 2,
   "metadata": {},
   "outputs": [
    {
     "ename": "MethodError",
     "evalue": "\u001b[91mMethodError: no method matching convert(::Type{AssertionError}, ::String)\u001b[0m\nClosest candidates are:\n  convert(\u001b[91m::Type{Any}\u001b[39m, ::ANY) at essentials.jl:28\n  convert(::Type{T}, \u001b[91m::T\u001b[39m) where T at essentials.jl:29\u001b[39m",
     "output_type": "error",
     "traceback": [
      "\u001b[91mMethodError: no method matching convert(::Type{AssertionError}, ::String)\u001b[0m\nClosest candidates are:\n  convert(\u001b[91m::Type{Any}\u001b[39m, ::ANY) at essentials.jl:28\n  convert(::Type{T}, \u001b[91m::T\u001b[39m) where T at essentials.jl:29\u001b[39m",
      "",
      "Stacktrace:",
      " [1] \u001b[1mAssertionError\u001b[22m\u001b[22m\u001b[1m(\u001b[22m\u001b[22m::String\u001b[1m)\u001b[22m\u001b[22m at \u001b[1m./coreimg.jl:14\u001b[22m\u001b[22m",
      " [2] \u001b[1mexecute_request\u001b[22m\u001b[22m\u001b[1m(\u001b[22m\u001b[22m::ZMQ.Socket, ::IJulia.Msg\u001b[1m)\u001b[22m\u001b[22m at \u001b[1m/home/luciano/.julia/v0.6/IJulia/src/execute_request.jl:154\u001b[22m\u001b[22m",
      " [3] \u001b[1m(::Compat.#inner#17{Array{Any,1},IJulia.#execute_request,Tuple{ZMQ.Socket,IJulia.Msg}})\u001b[22m\u001b[22m\u001b[1m(\u001b[22m\u001b[22m\u001b[1m)\u001b[22m\u001b[22m at \u001b[1m/home/luciano/.julia/v0.6/Compat/src/Compat.jl:385\u001b[22m\u001b[22m",
      " [4] \u001b[1meventloop\u001b[22m\u001b[22m\u001b[1m(\u001b[22m\u001b[22m::ZMQ.Socket\u001b[1m)\u001b[22m\u001b[22m at \u001b[1m/home/luciano/.julia/v0.6/IJulia/src/eventloop.jl:8\u001b[22m\u001b[22m",
      " [5] \u001b[1m(::IJulia.##14#17)\u001b[22m\u001b[22m\u001b[1m(\u001b[22m\u001b[22m\u001b[1m)\u001b[22m\u001b[22m at \u001b[1m./task.jl:335\u001b[22m\u001b[22m"
     ]
    }
   ],
   "source": [
    "using RGBDSegmentation, Plots\n",
    "import RGBDSegmentation:JCSA\n",
    "dataset = NYUDataset();\n",
    "img     = get_image(dataset,419, compute_normals= true);\n",
    "config  = JCSA.Config(max_iterations = 500);\n",
    "k       = 20;\n",
    "labels  = clusterize(config,img.image, k)\n",
    "Plots.plot(labels)\n",
    "\n"
   ]
  },
  {
   "cell_type": "code",
   "execution_count": null,
   "metadata": {},
   "outputs": [],
   "source": []
  }
 ],
 "metadata": {
  "kernelspec": {
   "display_name": "Julia 0.6.2",
   "language": "julia",
   "name": "julia-0.6"
  },
  "language_info": {
   "file_extension": ".jl",
   "mimetype": "application/julia",
   "name": "julia",
   "version": "0.6.2"
  }
 },
 "nbformat": 4,
 "nbformat_minor": 2
}
